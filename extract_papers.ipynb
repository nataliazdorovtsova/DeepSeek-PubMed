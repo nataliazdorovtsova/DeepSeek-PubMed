{
 "cells": [
  {
   "cell_type": "code",
   "execution_count": 4,
   "metadata": {},
   "outputs": [],
   "source": [
    "import os\n",
    "import random\n",
    "import urllib.request"
   ]
  },
  {
   "cell_type": "code",
   "execution_count": null,
   "metadata": {},
   "outputs": [],
   "source": [
    "# Configurable parameters\n",
    "FILE_LIST = \"oa_file_list.txt\"  # File list\n",
    "DOWNLOAD_FOLDER = \"articles\"\n",
    "NUMBER_OF_ARTICLES = 100  # Change this as needed\n",
    "\n",
    "# Ensure the download folder exists\n",
    "os.makedirs(DOWNLOAD_FOLDER, exist_ok=True)\n",
    "\n",
    "# Read the file list\n",
    "with open(FILE_LIST, \"r\", encoding=\"utf-8\") as f:\n",
    "    # For each line, split on tab and take the first element which is the file path.\n",
    "    file_paths = [line.split('\\t')[0] for line in f if line.strip()]\n",
    "\n",
    "# For a proof-of-concept, sample a subset of articles\n",
    "if len(file_paths) > NUMBER_OF_ARTICLES:\n",
    "    file_paths = random.sample(file_paths, NUMBER_OF_ARTICLES)\n",
    "\n",
    "# Define the base URL for FTP\n",
    "base_url = \"ftp://ftp.ncbi.nlm.nih.gov/pub/pmc/\"\n",
    "\n",
    "print(f\"Starting download of {len(file_paths)} articles...\")\n",
    "\n",
    "for i, path in enumerate(file_paths, start=1):\n",
    "    url = base_url + path\n",
    "    local_filename = os.path.join(DOWNLOAD_FOLDER, os.path.basename(path))\n",
    "    try:\n",
    "        print(f\"Downloading article {i}/{len(file_paths)}: {url}\")\n",
    "        urllib.request.urlretrieve(url, local_filename)\n",
    "    except Exception as e:\n",
    "        print(f\"Failed to download {url}: {e}\")\n",
    "\n",
    "print(\"Download completed!\")\n",
    "\n",
    "\n"
   ]
  },
  {
   "cell_type": "code",
   "execution_count": null,
   "metadata": {},
   "outputs": [],
   "source": []
  }
 ],
 "metadata": {
  "kernelspec": {
   "display_name": "ML",
   "language": "python",
   "name": "python3"
  },
  "language_info": {
   "codemirror_mode": {
    "name": "ipython",
    "version": 3
   },
   "file_extension": ".py",
   "mimetype": "text/x-python",
   "name": "python",
   "nbconvert_exporter": "python",
   "pygments_lexer": "ipython3",
   "version": "3.11.5"
  }
 },
 "nbformat": 4,
 "nbformat_minor": 2
}
