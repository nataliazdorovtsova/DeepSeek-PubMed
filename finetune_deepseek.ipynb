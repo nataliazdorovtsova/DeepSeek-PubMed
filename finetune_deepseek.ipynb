{
 "cells": [
  {
   "cell_type": "code",
   "execution_count": 10,
   "metadata": {},
   "outputs": [],
   "source": [
    "import os\n",
    "import random\n",
    "import urllib.request\n",
    "from torch.utils.data import Dataset\n",
    "from transformers import (\n",
    "    AutoTokenizer,\n",
    "    AutoModelForCausalLM,\n",
    "    Trainer,\n",
    "    TrainingArguments,\n",
    "    TrainerCallback,\n",
    "    SchedulerType,\n",
    ")\n"
   ]
  },
  {
   "cell_type": "code",
   "execution_count": 11,
   "metadata": {},
   "outputs": [],
   "source": [
    "import torch"
   ]
  },
  {
   "cell_type": "code",
   "execution_count": 12,
   "metadata": {},
   "outputs": [
    {
     "name": "stdout",
     "output_type": "stream",
     "text": [
      "True\n",
      "2.6.0+cu126\n",
      "12.6\n"
     ]
    }
   ],
   "source": [
    "print(torch.cuda.is_available())\n",
    "print(torch.__version__)\n",
    "print(torch.version.cuda)"
   ]
  },
  {
   "cell_type": "code",
   "execution_count": 13,
   "metadata": {},
   "outputs": [],
   "source": [
    "# Custom Dataset that streams PMC articles on the fly\n",
    "class PMCDataset(Dataset):\n",
    "    def __init__(self, file_list, base_url, tokenizer, max_length=512):\n",
    "        self.file_paths = file_list\n",
    "        self.base_url = base_url\n",
    "        self.tokenizer = tokenizer\n",
    "        self.max_length = max_length\n",
    "\n",
    "    def __len__(self):\n",
    "        return len(self.file_paths)\n",
    "\n",
    "    def __getitem__(self, idx):\n",
    "        path = self.file_paths[idx]\n",
    "        url = self.base_url + path\n",
    "        try:\n",
    "            response = urllib.request.urlopen(url)\n",
    "            article_bytes = response.read()\n",
    "            article_text = article_bytes.decode('utf-8', errors='ignore')\n",
    "        except Exception as e:\n",
    "            article_text = \"\"\n",
    "        tokenised = self.tokenizer(\n",
    "            article_text,\n",
    "            truncation=True,\n",
    "            max_length=self.max_length,\n",
    "            padding='max_length',\n",
    "            return_tensors='pt'\n",
    "        )\n",
    "        tokenised = {key: value.squeeze(0) for key, value in tokenised.items()}\n",
    "        return tokenised\n",
    "\n",
    "# callback to print loss information using tqdm\n",
    "class TqdmLoggingCallback(TrainerCallback):\n",
    "    def on_log(self, args, state, control, logs=None, **kwargs):\n",
    "        if logs is not None and \"loss\" in logs:\n",
    "            # Print current loss; you can customise the output here\n",
    "            print(f\"Step {state.global_step}: loss = {logs['loss']:.4f}\")"
   ]
  },
  {
   "cell_type": "code",
   "execution_count": null,
   "metadata": {},
   "outputs": [],
   "source": [
    "# Let's go\n",
    "\n",
    "# Configurable parameters\n",
    "FILE_LIST = \"oa_file_list.txt\"\n",
    "BASE_URL = \"ftp://ftp.ncbi.nlm.nih.gov/pub/pmc/\"\n",
    "NUMBER_OF_ARTICLES = 10  # For proof-of-concept\n",
    "MAX_LENGTH = 2048  # Increased to capture more from each article\n",
    "\n",
    "# Read and sample the file list\n",
    "with open(FILE_LIST, \"r\", encoding=\"utf-8\") as f:\n",
    "    file_paths = [line.split('\\t')[0] for line in f if line.strip()]\n",
    "if len(file_paths) > NUMBER_OF_ARTICLES:\n",
    "    file_paths = random.sample(file_paths, NUMBER_OF_ARTICLES)\n",
    "\n",
    "# Load tokenizer and model from Hugging Face\n",
    "model_name = \"deepseek-ai/DeepSeek-R1-Distill-Qwen-1.5B\"\n",
    "tokenizer = AutoTokenizer.from_pretrained(model_name)\n",
    "model = AutoModelForCausalLM.from_pretrained(model_name)\n",
    "\n",
    "# Create the streaming dataset\n",
    "dataset = PMCDataset(file_paths, BASE_URL, tokenizer, max_length=MAX_LENGTH)\n",
    "\n",
    "# Define training arguments. Notice the lr_scheduler_type set to cosine.\n",
    "training_args = TrainingArguments(\n",
    "    output_dir=\"./finetuned_model\",\n",
    "    num_train_epochs=3,\n",
    "    per_device_train_batch_size=2,\n",
    "    logging_steps=5,\n",
    "    save_steps=50,\n",
    "    evaluation_strategy=\"no\",\n",
    "    fp16=True,  # Use mixed precision if supported\n",
    "    lr_scheduler_type=SchedulerType.COSINE,  # Cosine annealing scheduler\n",
    "    warmup_steps=10,  \n",
    ")\n",
    "\n",
    "# Create the Trainer instance with our custom callback for additional logging.\n",
    "trainer = Trainer(\n",
    "    model=model,\n",
    "    args=training_args,\n",
    "    train_dataset=dataset,\n",
    "    callbacks=[TqdmLoggingCallback()],\n",
    ")\n",
    "\n",
    "# Start fine-tuning\n",
    "trainer.train()"
   ]
  }
 ],
 "metadata": {
  "kernelspec": {
   "display_name": "MachineLearning",
   "language": "python",
   "name": "python3"
  },
  "language_info": {
   "codemirror_mode": {
    "name": "ipython",
    "version": 3
   },
   "file_extension": ".py",
   "mimetype": "text/x-python",
   "name": "python",
   "nbconvert_exporter": "python",
   "pygments_lexer": "ipython3",
   "version": "3.10.16"
  }
 },
 "nbformat": 4,
 "nbformat_minor": 2
}
